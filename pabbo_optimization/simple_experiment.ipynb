{
 "cells": [
  {
   "cell_type": "markdown",
   "metadata": {},
   "source": [
    "Д# PABBO Optimization - Простой эксперимент\n",
    "\n",
    "Этот ноутбук демонстрирует базовый процесс работы с PABBO:\n",
    "1. Предобучение модели на синтетических 1D функциях (GP1D)\n",
    "2. Оценка модели на тестовых функциях\n",
    "\n",
    "## Шаг 1: Настройка окружения"
   ]
  },
  {
   "cell_type": "code",
   "execution_count": null,
   "metadata": {},
   "outputs": [],
   "source": [
    "import os\n",
    "import sys\n",
    "import torch\n",
    "import numpy as np\n",
    "import matplotlib.pyplot as plt\n",
    "\n",
    "# Добавляем путь к модулю pabbo_method\n",
    "sys.path.append('../pabbo_method')\n",
    "\n",
    "print(f\"PyTorch version: {torch.__version__}\")\n",
    "print(f\"CUDA available: {torch.cuda.is_available()}\")\n",
    "print(f\"Current working directory: {os.getcwd()}\")"
   ]
  },
  {
   "cell_type": "markdown",
   "metadata": {},
   "source": [
    "## Шаг 2: Предобучение модели PABBO на GP1D\n",
    "\n",
    "Согласно инструкции, сначала нужно предобучить модель PABBO на синтетических одномерных функциях (Gaussian Process 1D).\n",
    "\n",
    "### Параметры предобучения:\n",
    "- `data.name=GP1D` - использование синтетических GP данных\n",
    "- `data.d_x=1` - одномерное пространство поиска\n",
    "- `data.x_range=\"[[-1,1]]\"` - диапазон значений x\n",
    "- `data.min_num_ctx=1` - минимальное количество контекстных точек\n",
    "- `data.max_num_ctx=50` - максимальное количество контекстных точек\n",
    "- `train.num_query_points=100` - количество точек запроса\n",
    "- `train.num_prediction_points=100` - количество точек предсказания\n",
    "- `train.n_random_pairs=100` - количество случайных пар"
   ]
  },
  {
   "cell_type": "code",
   "execution_count": null,
   "metadata": {},
   "outputs": [],
   "source": [
    "# Команда для запуска предобучения\n",
    "# ВАЖНО: Эту команду нужно запускать из терминала, находясь в директории pabbo_method\n",
    "\n",
    "train_command = \"\"\"\n",
    "cd ../pabbo_method && python train.py --config-name=train \\\n",
    "    experiment.expid=PABBO_GP1D \\\n",
    "    data.name=GP1D \\\n",
    "    data.d_x=1 \\\n",
    "    data.x_range=\"[[-1,1]]\" \\\n",
    "    data.min_num_ctx=1 \\\n",
    "    data.max_num_ctx=50 \\\n",
    "    train.num_query_points=100 \\\n",
    "    train.num_prediction_points=100 \\\n",
    "    train.n_random_pairs=100 \\\n",
    "    experiment.device=cpu \\\n",
    "    experiment.wandb=false \\\n",
    "    train.n_steps=1000 \\\n",
    "    train.n_burnin=300\n",
    "\"\"\"\n",
    "\n",
    "print(\"Команда для запуска предобучения:\")\n",
    "print(train_command)\n",
    "print(\"\\n⚠️ ПРИМЕЧАНИЕ: Для быстрого теста мы используем:\")\n",
    "print(\"  - train.n_steps=1000 (вместо 8000 по умолчанию)\")\n",
    "print(\"  - train.n_burnin=300 (вместо 3000 по умолчанию)\")\n",
    "print(\"  - experiment.device=cpu (можно заменить на cuda если есть GPU)\")\n",
    "print(\"  - experiment.wandb=false (отключаем W&B для простоты)\")\n",
    "print(\"\\nДля полноценного обучения увеличьте n_steps до 8000 и n_burnin до 3000\")"
   ]
  },
  {
   "cell_type": "markdown",
   "metadata": {},
   "source": [
    "### Запуск предобучения из ноутбука\n",
    "\n",
    "Можно запустить прямо из ноутбука, но лучше использовать терминал для мониторинга процесса."
   ]
  },
  {
   "cell_type": "code",
   "execution_count": null,
   "metadata": {},
   "outputs": [],
   "source": [
    "# Раскомментируйте для запуска предобучения\n",
    "# ВНИМАНИЕ: Это может занять время!\n",
    "\n",
    "# import subprocess\n",
    "# result = subprocess.run(\n",
    "#     train_command,\n",
    "#     shell=True,\n",
    "#     capture_output=True,\n",
    "#     text=True\n",
    "# )\n",
    "# print(result.stdout)\n",
    "# if result.stderr:\n",
    "#     print(\"STDERR:\", result.stderr)"
   ]
  },
  {
   "cell_type": "markdown",
   "metadata": {},
   "source": [
    "## Шаг 3: Проверка результатов предобучения\n",
    "\n",
    "После завершения предобучения, чекпоинт модели должен сохраниться в:\n",
    "`results/evaluation/PABBO/PABBO_GP1D/ckpt.tar`"
   ]
  },
  {
   "cell_type": "code",
   "execution_count": null,
   "metadata": {},
   "outputs": [],
   "source": [
    "import os.path as osp\n",
    "\n",
    "# Проверяем наличие чекпоинта\n",
    "checkpoint_path = \"../pabbo_method/results/evaluation/PABBO/PABBO_GP1D/ckpt.tar\"\n",
    "\n",
    "if osp.exists(checkpoint_path):\n",
    "    print(f\"✅ Чекпоинт найден: {checkpoint_path}\")\n",
    "    \n",
    "    # Загружаем чекпоинт для проверки\n",
    "    ckpt = torch.load(checkpoint_path, map_location='cpu')\n",
    "    print(f\"\\nИнформация о чекпоинте:\")\n",
    "    print(f\"  - Шаг обучения: {ckpt.get('step', 'N/A')}\")\n",
    "    print(f\"  - Ключи: {list(ckpt.keys())}\")\n",
    "else:\n",
    "    print(f\"❌ Чекпоинт не найден: {checkpoint_path}\")\n",
    "    print(\"Необходимо сначала запустить предобучение (см. Шаг 2)\")"
   ]
  },
  {
   "cell_type": "markdown",
   "metadata": {},
   "source": [
    "## Шаг 4: Оценка модели на тестовой функции\n",
    "\n",
    "После предобучения можно использовать модель для оптимизации различных функций.\n",
    "\n",
    "### Пример: Оптимизация простой функции\n",
    "\n",
    "Сначала попробуем на стандартной тестовой функции GP1D, затем перейдем к кастомным."
   ]
  },
  {
   "cell_type": "code",
   "execution_count": null,
   "metadata": {},
   "outputs": [],
   "source": [
    "# Команда для оценки на GP1D функции\n",
    "eval_command = \"\"\"\n",
    "cd ../pabbo_method && python evaluate_continuous.py --config-name=evaluate \\\n",
    "    experiment.model=PABBO \\\n",
    "    experiment.expid=PABBO_GP1D \\\n",
    "    experiment.device=cpu \\\n",
    "    eval.eval_max_T=30 \\\n",
    "    eval.eval_num_query_points=256 \\\n",
    "    eval.num_parallel=1 \\\n",
    "    data.name=GP1D \\\n",
    "    data.d_x=1 \\\n",
    "    data.x_range=\"[[-1,1]]\" \\\n",
    "    experiment.wandb=false \\\n",
    "    eval.num_seeds=5 \\\n",
    "    eval.num_datasets=5\n",
    "\"\"\"\n",
    "\n",
    "print(\"Команда для оценки модели:\")\n",
    "print(eval_command)\n",
    "print(\"\\n⚠️ Для быстрого теста используем:\")\n",
    "print(\"  - eval.num_seeds=5 (вместо 30)\")\n",
    "print(\"  - eval.num_datasets=5 (вместо 30)\")"
   ]
  },
  {
   "cell_type": "markdown",
   "metadata": {},
   "source": [
    "## Следующие шаги\n",
    "\n",
    "После успешного предобучения и тестирования на GP1D, можно переходить к:\n",
    "\n",
    "1. **Эксперимент 1**: Оптимизация функции $y(x) = \\sin(x) + e^x$\n",
    "   - Нужно добавить кастомную функцию в код\n",
    "   - Запустить оценку на этой функции\n",
    "\n",
    "2. **Эксперимент 2**: Оптимизация параметра T для LDA\n",
    "   - Создать функцию, вычисляющую метрику LDA\n",
    "   - Использовать `evaluate_discrete.py`\n",
    "\n",
    "Смотрите следующие ноутбуки для детальных инструкций."
   ]
  },
  {
   "cell_type": "markdown",
   "metadata": {},
   "source": [
    "## Визуализация результатов\n",
    "\n",
    "После запуска оценки, результаты сохраняются в директории results/"
   ]
  },
  {
   "cell_type": "code",
   "execution_count": null,
   "metadata": {},
   "outputs": [],
   "source": [
    "# Функция для визуализации результатов\n",
    "def plot_results(result_path):\n",
    "    \"\"\"\n",
    "    Визуализация результатов оптимизации\n",
    "    \"\"\"\n",
    "    if not osp.exists(result_path):\n",
    "        print(f\"Результаты не найдены: {result_path}\")\n",
    "        return\n",
    "    \n",
    "    # Загружаем метрики\n",
    "    try:\n",
    "        simple_regret = torch.load(f\"{result_path}/SIMPLE_REGRET_S256_B1.pt\")\n",
    "        print(f\"Simple regret shape: {simple_regret.shape}\")\n",
    "        \n",
    "        # Построение графика\n",
    "        plt.figure(figsize=(10, 6))\n",
    "        mean_regret = simple_regret.mean(dim=(0, 1))\n",
    "        std_regret = simple_regret.std(dim=(0, 1))\n",
    "        \n",
    "        steps = range(len(mean_regret))\n",
    "        plt.plot(steps, mean_regret, label='Mean Simple Regret')\n",
    "        plt.fill_between(steps, \n",
    "                         mean_regret - std_regret, \n",
    "                         mean_regret + std_regret, \n",
    "                         alpha=0.3)\n",
    "        plt.xlabel('Optimization Step')\n",
    "        plt.ylabel('Simple Regret')\n",
    "        plt.title('PABBO Optimization Progress')\n",
    "        plt.legend()\n",
    "        plt.grid(True)\n",
    "        plt.show()\n",
    "        \n",
    "    except Exception as e:\n",
    "        print(f\"Ошибка при загрузке результатов: {e}\")\n",
    "\n",
    "# Пример использования:\n",
    "# plot_results(\"../pabbo_method/results/evaluation/GP1D/PABBO/PABBO_GP1D\")"
   ]
  }
 ],
 "metadata": {
  "kernelspec": {
   "display_name": "Python 3",
   "language": "python",
   "name": "python3"
  },
  "language_info": {
   "codemirror_mode": {
    "name": "ipython",
    "version": 3
   },
   "file_extension": ".py",
   "mimetype": "text/x-python",
   "name": "python",
   "nbconvert_exporter": "python",
   "pygments_lexer": "ipython3",
   "version": "3.8.0"
  }
 },
 "nbformat": 4,
 "nbformat_minor": 4
}
